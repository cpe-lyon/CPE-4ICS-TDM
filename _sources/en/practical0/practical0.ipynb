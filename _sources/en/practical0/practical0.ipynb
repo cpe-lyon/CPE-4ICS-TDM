{
 "cells": [
  {
   "cell_type": "markdown",
   "id": "019139f0",
   "metadata": {},
   "source": [
    "# Practical 0\n",
    "\n",
    "## Goals\n",
    "\n",
    "-   Understanding fundamentals of Python programming:\n",
    "-   Variables, data types, lists, sets and tuples.\n",
    "-   Conditional expressions and loops\n",
    "-   Sort\n",
    "-   Dictionary\n",
    "-   Files and user interaction\n",
    "\n"
   ]
  },
  {
   "cell_type": "markdown",
   "id": "ebc7fdba",
   "metadata": {},
   "source": [
    "## Exercise 1\n",
    "\n",
    "1\\. Comments\n"
   ]
  },
  {
   "cell_type": "code",
   "execution_count": null,
   "id": "588f1c15",
   "metadata": {},
   "outputs": [],
   "source": [
    "# This is a comment\n",
    "print(\"Bonjour\")"
   ]
  },
  {
   "cell_type": "markdown",
   "id": "da0bd31f",
   "metadata": {},
   "source": [
    "2\\. Variables\n",
    "\n"
   ]
  },
  {
   "cell_type": "code",
   "execution_count": null,
   "id": "a304ee10",
   "metadata": {},
   "outputs": [],
   "source": [
    "# a variable\n",
    "message = \"le monde!\"\n",
    "print(message)"
   ]
  },
  {
   "cell_type": "code",
   "execution_count": null,
   "id": "8debc17e",
   "metadata": {},
   "outputs": [],
   "source": [
    "a = 10\n",
    "b = 20\n",
    "c = a + b\n",
    "print(c)"
   ]
  },
  {
   "cell_type": "code",
   "execution_count": null,
   "id": "8b92ad15",
   "metadata": {},
   "outputs": [],
   "source": [
    "# floating point numbers\n",
    "pi = 3.14\n",
    "print(pi)"
   ]
  },
  {
   "cell_type": "code",
   "execution_count": null,
   "id": "3ebb2fb4",
   "metadata": {},
   "outputs": [],
   "source": [
    "# data types\n",
    "message1 = \"Bonjour\"\n",
    "a = 12\n",
    "pi = 3.14\n",
    "print(type(message1))\n",
    "print(type(a))\n",
    "print(type(pi))"
   ]
  },
  {
   "cell_type": "markdown",
   "id": "c62ca6c7",
   "metadata": {},
   "source": [
    "3\\. Concatenation of two strings\n",
    "\n"
   ]
  },
  {
   "cell_type": "code",
   "execution_count": null,
   "id": "8ebe1955",
   "metadata": {},
   "outputs": [],
   "source": [
    "# concatenation of two strings\n",
    "message = \"le monde!\"\n",
    "print(\"Bonjour\" + message)"
   ]
  },
  {
   "cell_type": "code",
   "execution_count": null,
   "id": "ef541646",
   "metadata": {},
   "outputs": [],
   "source": [
    "# concatenation of two strings\n",
    "message1 = \"Bonjour \"\n",
    "message2 = \"le monde!\"\n",
    "print(message1 + message2)"
   ]
  },
  {
   "cell_type": "code",
   "execution_count": null,
   "id": "2151913c",
   "metadata": {},
   "outputs": [],
   "source": [
    "# concatenation involving two variables of different data types\n",
    "# operation + on two different data types\n",
    "\n",
    "#Uncomment the print statement and run the code\n",
    "message1 = \"Bonjour en Python\"\n",
    "a = 3\n",
    "#print(message1 + a)"
   ]
  },
  {
   "cell_type": "markdown",
   "id": "1b3fac8f",
   "metadata": {},
   "source": [
    "Why did you get this error? In the following code, we correct this error."
   ]
  },
  {
   "cell_type": "code",
   "execution_count": null,
   "id": "f17ebff5",
   "metadata": {},
   "outputs": [],
   "source": [
    "# concatenation solution involving two variables of different data types\n",
    "message1 = \"Bonjour en Python \"\n",
    "a = 3\n",
    "print(message1 + str(a))"
   ]
  },
  {
   "cell_type": "markdown",
   "id": "9274a265",
   "metadata": {},
   "source": [
    "4\\. Lists"
   ]
  },
  {
   "cell_type": "code",
   "execution_count": null,
   "id": "109f7405",
   "metadata": {},
   "outputs": [],
   "source": [
    "a = [10, 20, 30, 40, 50]\n",
    "print(a)"
   ]
  },
  {
   "cell_type": "code",
   "execution_count": null,
   "id": "9b3676c1",
   "metadata": {},
   "outputs": [],
   "source": [
    "a = [10, 20, 30, 40, 50]\n",
    "print(a[0])\n",
    "print(a[1])\n",
    "print(a[2])\n",
    "print(a[3])\n",
    "print(a[4])"
   ]
  },
  {
   "cell_type": "code",
   "execution_count": null,
   "id": "27f24176",
   "metadata": {},
   "outputs": [],
   "source": [
    "#Uncomment the print statement and run the code\n",
    "a = [10, 20, 30, 40, 50]\n",
    "#print(a[8])"
   ]
  },
  {
   "cell_type": "markdown",
   "id": "341aa5fe",
   "metadata": {},
   "source": [
    "Why did you get this error? We are trying to access a element at an index that does not exist."
   ]
  },
  {
   "cell_type": "code",
   "execution_count": null,
   "id": "088a9688",
   "metadata": {},
   "outputs": [],
   "source": [
    "message1 = \"Bonjour en Python \"\n",
    "print(message1[0])\n",
    "print(message1[1])\n",
    "print(message1[2])\n",
    "print(message1[3])\n",
    "print(message1[4])\n",
    "print(message1[5])\n",
    "print(message1[6])\n",
    "print(message1[7])"
   ]
  },
  {
   "cell_type": "markdown",
   "id": "e10319c3",
   "metadata": {},
   "source": [
    "The above code displayed the individual characters in the string (or list of characters).\n",
    "We will now get the length of this string."
   ]
  },
  {
   "cell_type": "code",
   "execution_count": null,
   "id": "a7090b86",
   "metadata": {},
   "outputs": [],
   "source": [
    "message1 = \"Bonjour en Python \"\n",
    "print(len(message1))"
   ]
  },
  {
   "cell_type": "markdown",
   "id": "2c16e070",
   "metadata": {},
   "source": [
    "Nous allons maintenant créer une liste d'entiers. "
   ]
  },
  {
   "cell_type": "code",
   "execution_count": null,
   "id": "a756cde4",
   "metadata": {},
   "outputs": [],
   "source": [
    "a = [10, 20, 30, 40, 50]\n",
    "print(len(a))"
   ]
  },
  {
   "cell_type": "code",
   "execution_count": null,
   "id": "25782483",
   "metadata": {},
   "outputs": [],
   "source": [
    "a = [10, 20, 30, 40, 50]\n",
    "\n",
    "# add a new number at the end of the list\n",
    "a.append(60)\n",
    "print(a)"
   ]
  },
  {
   "cell_type": "code",
   "execution_count": null,
   "id": "968e9d6f",
   "metadata": {},
   "outputs": [],
   "source": [
    "a = [10, 20, 30, 40, 50]\n",
    "\n",
    "# modify a number at a particular index\n",
    "a[0] = 0\n",
    "print(a)"
   ]
  },
  {
   "cell_type": "markdown",
   "id": "f33c980a",
   "metadata": {},
   "source": [
    "Why did we get this error? We are modifying an element at a non-existing index."
   ]
  },
  {
   "cell_type": "code",
   "execution_count": null,
   "id": "c1ec2df3",
   "metadata": {},
   "outputs": [],
   "source": [
    "#Uncomment the assignment statement and run the code\n",
    "a = [10, 20, 30, 40, 50]\n",
    "#a[6] = 20\n",
    "print(a)"
   ]
  },
  {
   "cell_type": "code",
   "execution_count": null,
   "id": "0a406e0c",
   "metadata": {},
   "outputs": [],
   "source": [
    "a = [10, 20, 30, 40, 50]\n",
    "\n",
    "# inserting an element at a particular index will modify the list\n",
    "a.insert(0, 0)\n",
    "print(a)\n",
    "print(len(a))"
   ]
  },
  {
   "cell_type": "code",
   "execution_count": null,
   "id": "5d8b827a",
   "metadata": {},
   "outputs": [],
   "source": [
    "a = [10, 20, 30, 40, 50]\n",
    "a.insert(6,60)\n",
    "print(a)\n",
    "print(len(a))"
   ]
  },
  {
   "cell_type": "code",
   "execution_count": null,
   "id": "53b59b48",
   "metadata": {},
   "outputs": [],
   "source": [
    "a = [10, 20, 30, 40, 50]\n",
    "\n",
    "# We will now try to insert a number at an index greater than the length\n",
    "# of the list. We will see that we do not get any error and the new number\n",
    "# is added at the end of the list\n",
    "a.insert(10,60)\n",
    "print(a)\n",
    "print(len(a))"
   ]
  },
  {
   "cell_type": "markdown",
   "id": "316947cd",
   "metadata": {},
   "source": [
    "5\\. Tuples (non-modifiable lists)\n",
    "\n"
   ]
  },
  {
   "cell_type": "code",
   "execution_count": null,
   "id": "a35de01d",
   "metadata": {},
   "outputs": [],
   "source": [
    "a = (10, 20, 30, 40, 50)\n",
    "print(a)"
   ]
  },
  {
   "cell_type": "code",
   "execution_count": null,
   "id": "d42d1ba0",
   "metadata": {},
   "outputs": [],
   "source": [
    "a = (10, 20, 30, 40, 50)\n",
    "print(a[0])"
   ]
  },
  {
   "cell_type": "code",
   "execution_count": null,
   "id": "b47ace17",
   "metadata": {},
   "outputs": [],
   "source": [
    "a = (10, 20, 30, 40, 50)\n",
    "\n",
    "# We now try to modify a tuple\n",
    "# Uncomment the code below and run the code\n",
    "# A tupe is a non-modifiable list\n",
    "\n",
    "#a[0] = 0\n",
    "print(a)"
   ]
  },
  {
   "cell_type": "markdown",
   "id": "6ccaa017",
   "metadata": {},
   "source": [
    "6\\. Sets\n",
    "\n"
   ]
  },
  {
   "cell_type": "code",
   "execution_count": null,
   "id": "3a8e126d",
   "metadata": {},
   "outputs": [],
   "source": [
    "# A set is a collection of distinct elements\n",
    "a = {10, 20, 30, 40, 50, 10, 20, 30, 40, 50}\n",
    "print(a)"
   ]
  },
  {
   "cell_type": "code",
   "execution_count": null,
   "id": "f665b6e7",
   "metadata": {},
   "outputs": [],
   "source": [
    "a = {10, 20, 30, 40, 50, 10, 20, 30, 40, 50}\n",
    "a.add(10)\n",
    "print(a)"
   ]
  },
  {
   "cell_type": "code",
   "execution_count": null,
   "id": "5f01071f",
   "metadata": {},
   "outputs": [],
   "source": [
    "a = {10, 20, 30, 40, 50, 10, 20, 30, 40, 50}\n",
    "a.add(60)\n",
    "print(a)"
   ]
  },
  {
   "cell_type": "code",
   "execution_count": null,
   "id": "e0e7cbb6",
   "metadata": {},
   "outputs": [],
   "source": [
    "a = {10, 20, 30, 40, 50, 10, 20, 30, 40, 50}\n",
    "a.remove(40)\n",
    "print(a)"
   ]
  },
  {
   "cell_type": "markdown",
   "id": "58c98a6d",
   "metadata": {},
   "source": [
    "We will now try different data types with the numbers and print the result"
   ]
  },
  {
   "cell_type": "code",
   "execution_count": null,
   "id": "9dc17f9b",
   "metadata": {},
   "outputs": [],
   "source": [
    "# set\n",
    "a = {10, 20, 30, 40, 50, 10, 20, 30, 40, 50}\n",
    "print(a)\n",
    "print(type(a))\n",
    " \n",
    "# tuple\n",
    "b = (10, 20, 30, 40, 50, 10, 20, 30, 40, 50)\n",
    "print(b)\n",
    "print(type(b))\n",
    " \n",
    "# list\n",
    "c= [10, 20, 30, 40, 50, 10, 20, 30, 40, 50]\n",
    "print(c)\n",
    "print(type(c))\n"
   ]
  },
  {
   "cell_type": "markdown",
   "id": "5c047c3f",
   "metadata": {},
   "source": [
    "## Exercise 2\n",
    "\n",
    "1\\. Conditional Expressions\n",
    "\n"
   ]
  },
  {
   "cell_type": "code",
   "execution_count": null,
   "id": "057e5e16",
   "metadata": {},
   "outputs": [],
   "source": [
    "a = 12\n",
    "if( a%2 == 0):\n",
    "    print(a, \" is divisible by 2\")\n",
    "else:\n",
    "    print(a, \" is not divisible by 2\")"
   ]
  },
  {
   "cell_type": "code",
   "execution_count": null,
   "id": "4fae3986",
   "metadata": {},
   "outputs": [],
   "source": [
    "lang = \"Français\"\n",
    "if (lang ==\"Français\"):\n",
    "    print(\"Bonjour le monde!\")\n",
    "else:\n",
    "    print(\"Hello World!\")"
   ]
  },
  {
   "cell_type": "markdown",
   "id": "3e01a4c1",
   "metadata": {},
   "source": [
    "2\\. Loops\n",
    "\n",
    "Loops can also be used to access the elements at different indices."
   ]
  },
  {
   "cell_type": "code",
   "execution_count": null,
   "id": "9febd38b",
   "metadata": {},
   "outputs": [],
   "source": [
    "for i in [10, 20, 30, 40, 50, 10, 20, 30, 40, 50]:\n",
    "    print(i)"
   ]
  },
  {
   "cell_type": "code",
   "execution_count": null,
   "id": "4a6b8ff3",
   "metadata": {},
   "outputs": [],
   "source": [
    "for i in (10, 20, 30, 40, 50, 10, 20, 30, 40, 50):\n",
    "    print(i)"
   ]
  },
  {
   "cell_type": "code",
   "execution_count": null,
   "id": "c8e8d0f5",
   "metadata": {},
   "outputs": [],
   "source": [
    "for i in {10, 20, 30, 40, 50, 10, 20, 30, 40, 50}:\n",
    "    print(i)"
   ]
  },
  {
   "cell_type": "markdown",
   "id": "8110d751",
   "metadata": {},
   "source": [
    "2\\. Range\n",
    "\n"
   ]
  },
  {
   "cell_type": "code",
   "execution_count": null,
   "id": "4e6f4937",
   "metadata": {},
   "outputs": [],
   "source": [
    "for i in range(0,10):\n",
    "    print(i)"
   ]
  },
  {
   "cell_type": "code",
   "execution_count": null,
   "id": "928a0e15",
   "metadata": {},
   "outputs": [],
   "source": [
    "for i in range(0,10,2):\n",
    "    print(i)"
   ]
  },
  {
   "cell_type": "code",
   "execution_count": null,
   "id": "963d02ae",
   "metadata": {},
   "outputs": [],
   "source": [
    "# print() by default displays the message followed by a new line\n",
    "# But you can change its behaviour\n",
    "for i in range(0,10,2):\n",
    "    print(i, end=' ')"
   ]
  },
  {
   "cell_type": "code",
   "execution_count": null,
   "id": "f3e01e69",
   "metadata": {},
   "outputs": [],
   "source": [
    "for i in range(10,0,-2):\n",
    "    print(i)"
   ]
  },
  {
   "cell_type": "code",
   "execution_count": null,
   "id": "11e49b50",
   "metadata": {},
   "outputs": [],
   "source": [
    "for i in range(10,0):\n",
    "    print(i)"
   ]
  },
  {
   "cell_type": "markdown",
   "id": "05ed0b51",
   "metadata": {},
   "source": [
    "split(): the function can be used to separate a string using a specified delimited. \n",
    "    By default, the delimiter is a white space."
   ]
  },
  {
   "cell_type": "code",
   "execution_count": null,
   "id": "ea0404e5",
   "metadata": {},
   "outputs": [],
   "source": [
    "for i in \"Bonjour,le,monde!\".split():\n",
    "    print(i)"
   ]
  },
  {
   "cell_type": "code",
   "execution_count": null,
   "id": "a80539ee",
   "metadata": {},
   "outputs": [],
   "source": [
    "for i in \"Bonjour,le,monde!\".split(\",\"):\n",
    "    print(i)"
   ]
  },
  {
   "cell_type": "markdown",
   "id": "922c1459",
   "metadata": {},
   "source": [
    "Write a program in Python to display the following output\n",
    "\n",
    "  \n",
    " 1\n",
    " \n",
    " 12\n",
    " \n",
    " 123\n",
    " \n",
    " 1234\n",
    " \n",
    " 12345\n",
    " \n",
    " 123456\n",
    " \n",
    " 1234567\n",
    " \n",
    " 12345678"
   ]
  },
  {
   "cell_type": "markdown",
   "id": "fce28138",
   "metadata": {},
   "source": [
    "## Exercise 3\n",
    "\n",
    "1\\. Sort\n",
    "\n"
   ]
  },
  {
   "cell_type": "code",
   "execution_count": null,
   "id": "b8a6455c",
   "metadata": {},
   "outputs": [],
   "source": [
    "num = [10, 20, 30, 40, 50, 10, 20, 30, 40, 50]\n",
    "num.sort()\n",
    "print(num)"
   ]
  },
  {
   "cell_type": "markdown",
   "id": "1d0c47bd",
   "metadata": {},
   "source": [
    "2\\. Sort (decreasing order)\n",
    "\n"
   ]
  },
  {
   "cell_type": "code",
   "execution_count": null,
   "id": "9697ca5e",
   "metadata": {},
   "outputs": [],
   "source": [
    "num = [10, 20, 30, 40, 50, 10, 20, 30, 40, 50]\n",
    "num.sort(reverse=True)\n",
    "print(num)"
   ]
  },
  {
   "cell_type": "markdown",
   "id": "b0fe7353",
   "metadata": {},
   "source": [
    "3\\. minimum\n",
    "\n"
   ]
  },
  {
   "cell_type": "code",
   "execution_count": null,
   "id": "ac083e09",
   "metadata": {},
   "outputs": [],
   "source": [
    "num = [10, 20, 30, 40, 50, 10, 20, 30, 40, 50]\n",
    "print(min(num))"
   ]
  },
  {
   "cell_type": "markdown",
   "id": "8d380088",
   "metadata": {},
   "source": [
    "4\\. maximum\n",
    "\n"
   ]
  },
  {
   "cell_type": "code",
   "execution_count": null,
   "id": "c3d35b29",
   "metadata": {},
   "outputs": [],
   "source": [
    "num = [10, 20, 30, 40, 50, 10, 20, 30, 40, 50]\n",
    "print(max(num))"
   ]
  },
  {
   "cell_type": "markdown",
   "id": "c5024a2e",
   "metadata": {},
   "source": [
    "5\\. sorted()\n",
    "\n",
    "You can use the function if you do not wish to modify your initial list by sorting."
   ]
  },
  {
   "cell_type": "code",
   "execution_count": null,
   "id": "6fda3583",
   "metadata": {},
   "outputs": [],
   "source": [
    "num = [70, 20, 30, 10, 50, 60, 20, 80, 70, 50]\n",
    "sortednum = sorted(num,reverse=True)\n",
    "print(num)\n",
    "print(sortednum)"
   ]
  },
  {
   "cell_type": "code",
   "execution_count": null,
   "id": "b63e754f",
   "metadata": {},
   "outputs": [],
   "source": [
    "num = [70, 20, 30, 10, 50, 60, 20, 80, 70, 50]\n",
    "\n",
    "# select first five numbers\n",
    "sortednum = sorted(num,reverse=True)[:5]\n",
    "print(sortednum)"
   ]
  },
  {
   "cell_type": "markdown",
   "id": "fc2324a9",
   "metadata": {},
   "source": [
    "Modify the code given below to display the five greatest unique numbers.\n",
    "\n"
   ]
  },
  {
   "cell_type": "code",
   "execution_count": null,
   "id": "5d36b41c",
   "metadata": {},
   "outputs": [],
   "source": [
    "print(sorted(\"Bonjour le monde!\".split(), key=str.lower, \n",
    "           reverse=True))\n",
    "  \n",
    "\n",
    "\n"
   ]
  },
  {
   "cell_type": "markdown",
   "id": "9fb0ccd6",
   "metadata": {},
   "source": [
    "## Exercise 4\n",
    "\n",
    "1\\. Dictionary\n",
    "\n"
   ]
  },
  {
   "cell_type": "code",
   "execution_count": null,
   "id": "492ebf0a",
   "metadata": {},
   "outputs": [],
   "source": [
    "a = {\"contente\": 12, \"content\": 12, \"triste\": 2}\n",
    "print(a)\n",
    "print(type(a))"
   ]
  },
  {
   "cell_type": "code",
   "execution_count": null,
   "id": "8ecd2c3c",
   "metadata": {},
   "outputs": [],
   "source": [
    "a = {\"contente\": 12, \"content\": 12, \"triste\": 2}\n",
    "for key in a:\n",
    "    print(\"la phrase \", key, \" apparait \", a[key], \" fois\")\n"
   ]
  },
  {
   "cell_type": "code",
   "execution_count": null,
   "id": "cde7dc3b",
   "metadata": {},
   "outputs": [],
   "source": [
    "a = {\"contente\": 12, \"content\": 12, \"triste\": 2}\n",
    "for key,value in a.items():\n",
    "    print(\"la phrase \", key, \" apparait \", value, \" fois\")\n",
    "  \n",
    "\n",
    "\n"
   ]
  },
  {
   "cell_type": "code",
   "execution_count": null,
   "id": "3a4bfd97",
   "metadata": {},
   "outputs": [],
   "source": [
    "a = {\"contente\": 12, \"content\": 12, \"triste\": 2}\n",
    "a[\"joie\"] = 10\n",
    "print(a)\n",
    "  \n",
    "\n",
    "\n"
   ]
  },
  {
   "cell_type": "code",
   "execution_count": null,
   "id": "9857b682",
   "metadata": {},
   "outputs": [],
   "source": [
    "a = {\"contente\": 12, \"content\": 12, \"triste\": 2}\n",
    "del a[\"triste\"]\n",
    "print(a)"
   ]
  },
  {
   "cell_type": "code",
   "execution_count": null,
   "id": "37d902fa",
   "metadata": {},
   "outputs": [],
   "source": [
    "mots = {\"contente\": 12, \"content\": 12, \"triste\": 2, \n",
    "     \"joie\" : 10}\n",
    "print(sorted(mots))"
   ]
  },
  {
   "cell_type": "code",
   "execution_count": null,
   "id": "ec390eee",
   "metadata": {},
   "outputs": [],
   "source": [
    "mots = {\"contente\": 12, \"content\": 12, \"triste\": 2, \n",
    "     \"joie\" : 10}\n",
    "mots_tuple = [(key, value) for key,value in mots.items()]\n",
    "print(mots_tuple)"
   ]
  },
  {
   "cell_type": "markdown",
   "id": "04b441bf",
   "metadata": {},
   "source": [
    "2\\. itemgetter"
   ]
  },
  {
   "cell_type": "code",
   "execution_count": null,
   "id": "267738ca",
   "metadata": {},
   "outputs": [],
   "source": [
    "from operator import itemgetter\n",
    " \n",
    "mots = {\"contente\": 12, \"content\": 12, \"triste\": 2, \n",
    "     \"joie\" : 10}\n",
    "mots_tuple = [(key, value) for key,value in mots.items()]\n",
    "print(sorted(mots_tuple, key=itemgetter(1)))"
   ]
  },
  {
   "cell_type": "markdown",
   "id": "bdf7c9e7",
   "metadata": {},
   "source": [
    "3\\. Interaction with user"
   ]
  },
  {
   "cell_type": "code",
   "execution_count": null,
   "id": "f36408fd",
   "metadata": {},
   "outputs": [],
   "source": [
    "# nom = input(\"Quel est votre nom?\")\n",
    "# print(nom)"
   ]
  },
  {
   "cell_type": "code",
   "execution_count": null,
   "id": "d73ceb8c",
   "metadata": {},
   "outputs": [],
   "source": [
    "# age = input(\"Quel est votre âge? \")\n",
    "# print(age)\n",
    "# print(type(age))"
   ]
  },
  {
   "cell_type": "code",
   "execution_count": null,
   "id": "0e476647",
   "metadata": {},
   "outputs": [],
   "source": [
    "# age = input(\"Quel est votre âge? \")\n",
    "# age = int(age)\n",
    "# print(age)\n",
    "# print(type(age))"
   ]
  },
  {
   "cell_type": "markdown",
   "id": "c012ed42",
   "metadata": {},
   "source": [
    "**Question:** Write a program in Python that interacts with the user to\n",
    "obtain the following information of 5 students:\n",
    "\n",
    "-   Name of student\n",
    "-   Age\n",
    "-   Grades in 5 modules\n",
    "\n",
    "Once the information for all the five students is obtained, calculate\n",
    "and display the following values for every module:\n",
    "\n",
    "-   average grade\n",
    "-   maximum grade\n",
    "-   minimum grade\n",
    "\n"
   ]
  },
  {
   "cell_type": "markdown",
   "id": "ac6fc845",
   "metadata": {},
   "source": [
    "## Exercise 5\n",
    "\n"
   ]
  },
  {
   "cell_type": "markdown",
   "id": "67d38241",
   "metadata": {},
   "source": [
    "1\\. Files\n",
    "\n"
   ]
  },
  {
   "cell_type": "code",
   "execution_count": null,
   "id": "85906c2c",
   "metadata": {},
   "outputs": [],
   "source": [
    "message = \"Bonjour le monde\"\n",
    "with open(\"bonjour.txt\", \"w\") as file:\n",
    "    file.write(message)\n",
    "file.close()"
   ]
  },
  {
   "cell_type": "code",
   "execution_count": null,
   "id": "3433cf7e",
   "metadata": {},
   "outputs": [],
   "source": [
    "with open(\"bonjour.txt\", \"r\") as file:\n",
    "    text = file.read()\n",
    "    print(text)\n",
    "file.close()"
   ]
  },
  {
   "cell_type": "code",
   "execution_count": null,
   "id": "489df876",
   "metadata": {},
   "outputs": [],
   "source": [
    "message1 = \"Bonjour le monde\"\n",
    "message2 = \"Programmation en Python\"\n",
    "with open(\"bonjour.txt\", \"w\") as file:\n",
    "    file.write(message1)\n",
    "    file.write(message2)\n",
    "file.close()"
   ]
  },
  {
   "cell_type": "code",
   "execution_count": null,
   "id": "dee45e3d",
   "metadata": {},
   "outputs": [],
   "source": [
    "with open(\"bonjour.txt\", \"r\") as file:\n",
    "    text = file.read()\n",
    "    print(text)\n",
    "file.close()"
   ]
  },
  {
   "cell_type": "code",
   "execution_count": null,
   "id": "b025fcdf",
   "metadata": {},
   "outputs": [],
   "source": [
    "message1 = \"Bonjour le monde\\n\"\n",
    "message2 = \"Programmation en Python\"\n",
    "with open(\"bonjour.txt\", \"w\") as file:\n",
    "    file.write(message1)\n",
    "    file.write(message2)\n",
    "file.close()\n",
    " \n",
    "with open(\"bonjour.txt\", \"r\") as file:\n",
    "    text = file.read()\n",
    "    print(text)\n",
    "file.close()"
   ]
  },
  {
   "cell_type": "markdown",
   "id": "c63fe4d7",
   "metadata": {},
   "source": [
    "2\\. readline()\n",
    "\n",
    "This function can be used to read a file line by line and not the complete content in a single call like read()\n"
   ]
  },
  {
   "cell_type": "code",
   "execution_count": null,
   "id": "2a5c1341",
   "metadata": {},
   "outputs": [],
   "source": [
    "message1 = \"Bonjour le monde\\n\"\n",
    "message2 = \"Programmation en Python\"\n",
    "with open(\"bonjour.txt\", \"w\") as file:\n",
    "    file.write(message1)\n",
    "    file.write(message2)\n",
    "file.close()"
   ]
  },
  {
   "cell_type": "code",
   "execution_count": null,
   "id": "5c944605",
   "metadata": {},
   "outputs": [],
   "source": [
    "with open(\"bonjour.txt\", \"r\") as file:\n",
    "    text = file.readline()\n",
    "    print(text)\n",
    "file.close()"
   ]
  },
  {
   "cell_type": "code",
   "execution_count": null,
   "id": "d63d38d3",
   "metadata": {},
   "outputs": [],
   "source": [
    "message1 = \"Bonjour le monde\\n\"\n",
    "message2 = \"Programmation en Python\\n\"\n",
    "with open(\"bonjour.txt\", \"w\") as file:\n",
    "    file.write(message1)\n",
    "    file.write(message2)\n",
    "file.close()"
   ]
  },
  {
   "cell_type": "code",
   "execution_count": null,
   "id": "a5c14bf7",
   "metadata": {},
   "outputs": [],
   "source": [
    "with open(\"bonjour.txt\", \"r\") as file:\n",
    "    for line in file:\n",
    "        print(line)\n",
    "file.close()"
   ]
  },
  {
   "cell_type": "markdown",
   "id": "03d2cee4",
   "metadata": {},
   "source": [
    "**Question:** Copy any HTML file in your home directory. Write a program\n",
    "in Python to get the following values:\n",
    "\n",
    "-   number of characters in the HTML file\n",
    "-   number of lines in the HTML file\n",
    "-   number of words in the HTML file\n",
    "-   first twenty words in the HTML file\n",
    "-   distinct words in the HTML file\n",
    "\n"
   ]
  },
  {
   "cell_type": "markdown",
   "id": "1591da62",
   "metadata": {},
   "source": [
    "**Question:** Copy the CSV\n",
    "file population.csv from the **data** folder. The file contains the population values between\n",
    "1901 and 2016. Write a program in Python to get the maximum value.\n",
    "\n",
    "-   the maximum value of population\n",
    "-   the minimum value of population\n",
    "\n"
   ]
  },
  {
   "cell_type": "code",
   "execution_count": null,
   "id": "cb9a8e7e",
   "metadata": {},
   "outputs": [],
   "source": []
  }
 ],
 "metadata": {
  "kernelspec": {
   "display_name": "Python 3",
   "language": "python",
   "name": "python3"
  },
  "language_info": {
   "codemirror_mode": {
    "name": "ipython",
    "version": 3
   },
   "file_extension": ".py",
   "mimetype": "text/x-python",
   "name": "python",
   "nbconvert_exporter": "python",
   "pygments_lexer": "ipython3",
   "version": "3.8.10"
  }
 },
 "nbformat": 4,
 "nbformat_minor": 5
}
